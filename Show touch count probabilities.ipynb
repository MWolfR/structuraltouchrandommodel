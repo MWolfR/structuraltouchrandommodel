{
 "cells": [
  {
   "cell_type": "markdown",
   "id": "19dabcc7",
   "metadata": {},
   "source": [
    "## Load data\n",
    "\n",
    "Fill in path to ConnectivityMatrix object below.\n",
    "\n",
    "Also fill in path to output figure and the title to give it."
   ]
  },
  {
   "cell_type": "code",
   "execution_count": 1,
   "id": "942fd968",
   "metadata": {},
   "outputs": [],
   "source": [
    "import numpy\n",
    "import pandas\n",
    "\n",
    "import conntility\n",
    "\n",
    "from scipy.spatial import distance\n",
    "from matplotlib import pyplot as plt\n",
    "\n",
    "\n",
    "fn = \"/gpfs/bbp.cscs.ch/project/proj159/home/barros/conn_matrix/Rat_623um_squared_struc_conmat_filtered_compressed.h5\"\n",
    "fn_out = \"touch_count_probs_rat.pdf\"\n",
    "figure_title = \"Rat: Structural\"\n",
    "\n",
    "M = conntility.ConnectivityMatrix.from_h5(fn)\n",
    "if M.is_multigraph:\n",
    "    M = M.compress()"
   ]
  },
  {
   "cell_type": "markdown",
   "id": "7318e7d9",
   "metadata": {},
   "source": [
    "## Parameters"
   ]
  },
  {
   "cell_type": "code",
   "execution_count": 2,
   "id": "846d1399",
   "metadata": {},
   "outputs": [],
   "source": [
    "max_touch_count = 10 # Plot up to that number of touches\n",
    "dist_bin_sz = 50 # Size of distance bins in um\n",
    "min_num_edges_last_bin = 5000 # For distance bins: How many edges must be in the last one at least? Determines distance cutoff\n",
    "min_num_samples_p = 500 # For the plotting: Probabilities based on fewer than this number of samples are set to NaN (masked out)\n",
    "\n",
    "cols_xyz = [\"x\", \"y\", \"z\"] # Names of coordinates for distance calculation"
   ]
  },
  {
   "cell_type": "markdown",
   "id": "399775a3",
   "metadata": {},
   "source": [
    "## Calculations"
   ]
  },
  {
   "cell_type": "code",
   "execution_count": 3,
   "id": "35099cc6",
   "metadata": {},
   "outputs": [
    {
     "name": "stdout",
     "output_type": "stream",
     "text": [
      "bin\n",
      "1     161854\n",
      "2     127908\n",
      "3      98827\n",
      "4      84190\n",
      "5      72423\n",
      "6      64592\n",
      "7      58219\n",
      "8      52725\n",
      "0      50927\n",
      "9      49428\n",
      "10     45463\n",
      "11     38856\n",
      "12     32948\n",
      "13     28331\n",
      "14     25647\n",
      "15     24303\n",
      "16     23317\n",
      "17     21646\n",
      "18     19922\n",
      "19     18461\n",
      "20     16965\n",
      "21     15020\n",
      "22     11824\n",
      "23      8604\n",
      "24      6888\n",
      "25      5842\n",
      "31      5687\n",
      "26      4729\n",
      "27      4036\n",
      "28      3397\n",
      "29      2862\n",
      "30      2274\n",
      "Name: count, dtype: int64\n"
     ]
    }
   ],
   "source": [
    "# Add distance and distance bin information to the edges.\n",
    "# The table of edges must contains columns \"bin\" (distance bin index) and \"count\" (number of touches). \n",
    "\n",
    "sum_deltas = numpy.zeros(len(M.edges))\n",
    "\n",
    "for axis in cols_xyz:\n",
    "    prop = M.edge_associated_vertex_properties(axis)\n",
    "    delta = prop[\"row\"].values - prop[\"col\"].values\n",
    "    sum_deltas += (delta ** 2)\n",
    "\n",
    "M.add_edge_property(\"distance\", numpy.sqrt(sum_deltas))\n",
    "\n",
    "# Linear distance bins (for now)\n",
    "tgt_percentile = 100 * (1.0 - min_num_edges_last_bin / len(M.edges)) # This way, the last distance bin will contain the specified number of edges.\n",
    "max_dist = numpy.percentile(M.edges[\"distance\"], tgt_percentile) # There are min_num_edges_last_bin edges beyond that distance!\n",
    "\n",
    "dbins = numpy.arange(0, max_dist, dist_bin_sz)\n",
    "dbins[0] = 1E-9\n",
    "dbin_ids = numpy.arange(len(dbins))\n",
    "bin_centers = dbins + 0.5 * numpy.mean(numpy.diff(dbins))\n",
    "M.add_edge_property(\"bin\", numpy.digitize(M.edges[\"distance\"], bins=dbins) - 1)\n",
    "\n",
    "print(M.edges[\"bin\"].value_counts())"
   ]
  },
  {
   "cell_type": "code",
   "execution_count": 4,
   "id": "d266115b",
   "metadata": {},
   "outputs": [],
   "source": [
    "master_table = M.edges.groupby(\"bin\")[\"count\"].value_counts().unstack(\"count\", fill_value=0)"
   ]
  },
  {
   "cell_type": "code",
   "execution_count": 5,
   "id": "a495a12f",
   "metadata": {},
   "outputs": [],
   "source": [
    "D = distance.squareform(distance.pdist(M.vertices[cols_xyz]))\n",
    "D = numpy.digitize(D.flatten(), bins=dbins) - 1\n",
    "Dcounts = pandas.Series(D, name=\"bin\").value_counts().drop(-1)\n",
    "\n",
    "master_table[0] = Dcounts - master_table.sum(axis=1) # Zero touches pair count\n",
    "master_table = master_table.sort_index(axis=1, ascending=False)"
   ]
  },
  {
   "cell_type": "code",
   "execution_count": 6,
   "id": "ec3756fb",
   "metadata": {},
   "outputs": [],
   "source": [
    "P_geq = master_table.cumsum(axis=1) # Number of samples with touch count >= a threshold\n",
    "P_gt = P_geq.copy() # We shift it by one index -> Number of samples with touch count > a threshold\n",
    "P_gt.columns = P_gt.columns - 1\n",
    "\n",
    "condP = P_gt.div(P_geq, fill_value=0).drop(columns=-1)\n",
    "condP[P_geq < min_num_samples_p] = numpy.NaN\n",
    "condP.columns = condP.columns + 1 # Now index is the touch number: 1 indicating first touch, etc."
   ]
  },
  {
   "cell_type": "markdown",
   "id": "9909623e",
   "metadata": {},
   "source": [
    "## Plotting"
   ]
  },
  {
   "cell_type": "code",
   "execution_count": 7,
   "id": "9f803de0",
   "metadata": {},
   "outputs": [
    {
     "data": {
      "text/plain": [
       "Text(0, 0.5, 'Touch #')"
      ]
     },
     "execution_count": 7,
     "metadata": {},
     "output_type": "execute_result"
    },
    {
     "data": {
      "image/png": "[encoded data removed]",
      "text/plain": [
       "<Figure size 300x200 with 2 Axes>"
      ]
     },
     "metadata": {},
     "output_type": "display_data"
    }
   ],
   "source": [
    "from matplotlib import cm\n",
    "\n",
    "cmap = cm.jet\n",
    "\n",
    "touches = numpy.arange(1, max_touch_count + 1)\n",
    "touch_col_v = numpy.linspace(0, 1, len(touches))\n",
    "\n",
    "fig = plt.figure(figsize=(3, 2))\n",
    "ax = fig.add_axes([0.05, 0.05, 0.8, 0.9])\n",
    "\n",
    "for t, v in zip(touches, touch_col_v):\n",
    "    col = cmap(v)\n",
    "    ax.plot(bin_centers, condP[t], color=col, label=\"Touch #{0}\".format(t), marker='o', ms=4)\n",
    "\n",
    "ax.set_frame_on(False)\n",
    "ax.set_xlabel(\"Distance (um)\")\n",
    "ax.set_ylabel(\"P\")\n",
    "ax.set_title(figure_title)\n",
    "\n",
    "ax = fig.add_axes([0.925, 0.15, 0.035, 0.7])\n",
    "ax.imshow(cmap(touch_col_v).reshape((-1, 1, 4)))\n",
    "ax.yaxis.tick_right()\n",
    "ax.set_xticks([])\n",
    "ax.set_yticks(numpy.arange(1, max_touch_count + 1, 3) - 1)\n",
    "ax.set_yticklabels(numpy.arange(1, max_touch_count + 1, 3))\n",
    "ax.set_ylabel(\"Touch #\")\n",
    "\n",
    "fig.savefig(fn_out)"
   ]
  }
 ],
 "metadata": {
  "kernelspec": {
   "display_name": "Python 3 (ipykernel)",
   "language": "python",
   "name": "python3"
  },
  "language_info": {
   "codemirror_mode": {
    "name": "ipython",
    "version": 3
   },
   "file_extension": ".py",
   "mimetype": "text/x-python",
   "name": "python",
   "nbconvert_exporter": "python",
   "pygments_lexer": "ipython3",
   "version": "3.8.10"
  }
 },
 "nbformat": 4,
 "nbformat_minor": 5
}
